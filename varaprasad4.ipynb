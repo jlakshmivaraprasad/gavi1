{
 "cells": [
  {
   "cell_type": "code",
   "execution_count": 5,
   "id": "eb29e1e5-9b54-46d5-840a-9590e26d95bc",
   "metadata": {},
   "outputs": [
    {
     "name": "stdout",
     "output_type": "stream",
     "text": [
      "Q . . . . . . .\n",
      ". . . . . . Q .\n",
      ". . . . Q . . .\n",
      ". . . . . . . Q\n",
      ". Q . . . . . .\n",
      ". . . Q . . . .\n",
      ". . . . . Q . .\n",
      ". . Q . . . . .\n",
      "\n"
     ]
    }
   ],
   "source": [
    "def is_safe(board, row, col):\n",
    "    \"\"\"Return True if it's safe to place a queen at board[row][col].\"\"\"\n",
    "    n = len(board)\n",
    "\n",
    "    # Check this row on left side\n",
    "    for i in range(col):\n",
    "        if board[row][i] == 1:\n",
    "            return False\n",
    "\n",
    "    # Check upper diagonal on left side\n",
    "    i, j = row, col\n",
    "    while i >= 0 and j >= 0:\n",
    "        if board[i][j] == 1:\n",
    "            return False\n",
    "        i -= 1\n",
    "        j -= 1\n",
    "\n",
    "    # Check lower diagonal on left side\n",
    "    i, j = row, col\n",
    "    while i < n and j >= 0:\n",
    "        if board[i][j] == 1:\n",
    "            return False\n",
    "        i += 1\n",
    "        j -= 1\n",
    "\n",
    "    return True\n",
    "\n",
    "\n",
    "def solve_n_queens_util(board, col):\n",
    "    \"\"\"Backtracking utility to place queens column by column.\"\"\"\n",
    "    n = len(board)\n",
    "    if col >= n:\n",
    "        return True\n",
    "\n",
    "    for i in range(n):\n",
    "        if is_safe(board, i, col):\n",
    "            board[i][col] = 1  # Place queen\n",
    "\n",
    "            if solve_n_queens_util(board, col + 1):\n",
    "                return True\n",
    "\n",
    "            board[i][col] = 0  # Backtrack\n",
    "\n",
    "    return False\n",
    "\n",
    "\n",
    "def print_board(board):\n",
    "    \"\"\"Print the board with Q for queen and . for empty squares.\"\"\"\n",
    "    for row in board:\n",
    "        print(\" \".join(\"Q\" if x == 1 else \".\" for x in row))\n",
    "    print()\n",
    "\n",
    "\n",
    "def solve_n_queens(n=8):\n",
    "    board = [[0] * n for _ in range(n)]\n",
    "\n",
    "    if not solve_n_queens_util(board, 0):\n",
    "        print(\"Solution does not exist\")\n",
    "        return False\n",
    "\n",
    "    print_board(board)\n",
    "    return True\n",
    "\n",
    "\n",
    "if __name__ == \"__main__\":\n",
    "    solve_n_queens()\n"
   ]
  },
  {
   "cell_type": "code",
   "execution_count": null,
   "id": "aa190ee3-25b7-47e2-b53b-49802f97a290",
   "metadata": {},
   "outputs": [],
   "source": []
  }
 ],
 "metadata": {
  "kernelspec": {
   "display_name": "Python 3 (ipykernel)",
   "language": "python",
   "name": "python3"
  },
  "language_info": {
   "codemirror_mode": {
    "name": "ipython",
    "version": 3
   },
   "file_extension": ".py",
   "mimetype": "text/x-python",
   "name": "python",
   "nbconvert_exporter": "python",
   "pygments_lexer": "ipython3",
   "version": "3.13.5"
  }
 },
 "nbformat": 4,
 "nbformat_minor": 5
}
